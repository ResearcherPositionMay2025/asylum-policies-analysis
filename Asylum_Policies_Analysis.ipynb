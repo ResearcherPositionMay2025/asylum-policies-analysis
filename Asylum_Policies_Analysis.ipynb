{
 "cells": [
  {
   "cell_type": "code",
   "execution_count": 28,
   "id": "69611c4c-7784-4237-8b86-f0c0b5844edc",
   "metadata": {},
   "outputs": [
    {
     "name": "stdout",
     "output_type": "stream",
     "text": [
      "Total countries analyzed: 39\n",
      "Average number of 'More Restrictive' policies per country: 45.31\n",
      "Average number of 'Less Restrictive' policies per country: 67.36\n",
      "Average number of 'No Change' policies per country: 4.26\n",
      "Average number of 'Unclear/N.A.' policies per country: 7.69\n",
      "Average restrictiveness score (range -1 to 1): -0.183\n",
      "\n",
      "Top 5 most restrictive countries:\n",
      "      Country  Restrictiveness Score  More Restrictive  Less Restrictive\n",
      "14  Indonesia               0.168675                47                33\n",
      "12   Slovenia               0.028846                49                46\n",
      "19      India               0.022989                42                40\n",
      "4     Belgium               0.013245                71                69\n",
      "13     Russia              -0.025641                48                51\n",
      "\n",
      "Top 5 least restrictive countries:\n",
      "       Country  Restrictiveness Score  More Restrictive  Less Restrictive\n",
      "31       Korea              -0.400000                27                67\n",
      "32      Poland              -0.386139                26                65\n",
      "38  Yugoslavia              -0.382979                13                31\n",
      "35      Turkey              -0.362637                22                55\n",
      "26      Sweden              -0.360000                34                79\n"
     ]
    }
   ],
   "source": [
    "import pandas as pd\n",
    "from dotenv import load_dotenv\n",
    "import os\n",
    "\n",
    "load_dotenv()  # loads variables from .env\n",
    "file_path = os.getenv('DATA_PATH')\n",
    "\n",
    "\n",
    "df_summary = pd.DataFrame()\n",
    "df_summary['Country'] = df['Country']\n",
    "df_summary['More Restrictive'] = pd.to_numeric(df['More Restrictive'], errors='coerce').fillna(0).astype(int)\n",
    "df_summary['Less Restrictive'] = pd.to_numeric(df['Less Restrictive'], errors='coerce').fillna(0).astype(int)\n",
    "df_summary['No Change'] = pd.to_numeric(df['No Change'], errors='coerce').fillna(0).astype(int)\n",
    "df_summary['Unclear/N.A.'] = pd.to_numeric(df['Unclear/N.A.'], errors='coerce').fillna(0).astype(int)\n",
    "df_summary['Total Policies'] = pd.to_numeric(df['Total Policies'], errors='coerce').fillna(0).astype(int)\n",
    "\n",
    "df_summary['Restrictiveness Score'] = (df_summary['More Restrictive'] - df_summary['Less Restrictive']) / df_summary['Total Policies']\n",
    "\n",
    "total_countries = df_summary.shape[0]\n",
    "avg_more_restrictive = df_summary['More Restrictive'].mean()\n",
    "avg_less_restrictive = df_summary['Less Restrictive'].mean()\n",
    "avg_no_change = df_summary['No Change'].mean()\n",
    "avg_unclear = df_summary['Unclear/N.A.'].mean()\n",
    "avg_score = df_summary['Restrictiveness Score'].mean()\n",
    "\n",
    "print(f\"Total countries analyzed: {total_countries}\")\n",
    "print(f\"Average number of 'More Restrictive' policies per country: {avg_more_restrictive:.2f}\")\n",
    "print(f\"Average number of 'Less Restrictive' policies per country: {avg_less_restrictive:.2f}\")\n",
    "print(f\"Average number of 'No Change' policies per country: {avg_no_change:.2f}\")\n",
    "print(f\"Average number of 'Unclear/N.A.' policies per country: {avg_unclear:.2f}\")\n",
    "print(f\"Average restrictiveness score (range -1 to 1): {avg_score:.3f}\")\n",
    "\n",
    "most_restrictive_countries = df_summary.sort_values('Restrictiveness Score', ascending=False).head(5)\n",
    "least_restrictive_countries = df_summary.sort_values('Restrictiveness Score').head(5)\n",
    "\n",
    "print(\"\\nTop 5 most restrictive countries:\")\n",
    "print(most_restrictive_countries[['Country', 'Restrictiveness Score', 'More Restrictive', 'Less Restrictive']])\n",
    "\n",
    "print(\"\\nTop 5 least restrictive countries:\")\n",
    "print(least_restrictive_countries[['Country', 'Restrictiveness Score', 'More Restrictive', 'Less Restrictive']])\n"
   ]
  },
  {
   "cell_type": "code",
   "execution_count": null,
   "id": "91c4d67c-b6f0-412b-b77f-97850877d289",
   "metadata": {},
   "outputs": [],
   "source": []
  }
 ],
 "metadata": {
  "kernelspec": {
   "display_name": "Python 3 (ipykernel)",
   "language": "python",
   "name": "python3"
  },
  "language_info": {
   "codemirror_mode": {
    "name": "ipython",
    "version": 3
   },
   "file_extension": ".py",
   "mimetype": "text/x-python",
   "name": "python",
   "nbconvert_exporter": "python",
   "pygments_lexer": "ipython3",
   "version": "3.11.8"
  }
 },
 "nbformat": 4,
 "nbformat_minor": 5
}
